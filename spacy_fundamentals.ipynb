{
 "cells": [
  {
   "cell_type": "code",
   "execution_count": null,
   "metadata": {},
   "outputs": [],
   "source": [
    "!python -m spacy download es_core_news_sm"
   ]
  },
  {
   "cell_type": "code",
   "execution_count": 16,
   "metadata": {},
   "outputs": [],
   "source": [
    "import spacy\n",
    "\n",
    "# Load Spanish tokenizer, tagger, parser, NER and word vectors\n",
    "nlp = spacy.load(\"es_core_news_sm\")\n",
    "\n",
    "text = \"\"\"\n",
    "Muchos años después, frente al pelotón de fusilamiento, \"\n",
    "el coronel Aureliano Buendía había de recordar aquella tarde remota en que su padre lo llevó a conocer el hielo.\n",
    "Macondo era entonces una aldea de 20 casas de barro y cañabrava construidas a la orilla de un río de aguas diáfanas que se precipitaban por un lecho de piedras pulidas, blancas y enormes como huevos prehistóricos.\n",
    "\"\"\"\n",
    "doc = nlp(text)"
   ]
  },
  {
   "cell_type": "code",
   "execution_count": 10,
   "metadata": {},
   "outputs": [
    {
     "name": "stdout",
     "output_type": "stream",
     "text": [
      "Tokens in the text:\n",
      "\n",
      "\n",
      "Muchos\n",
      "años\n",
      "después\n",
      ",\n",
      "frente\n",
      "al\n",
      "pelotón\n",
      "de\n",
      "fusilamiento\n",
      ",\n",
      "\"\n",
      "\n",
      "\n",
      "el\n",
      "coronel\n",
      "Aureliano\n",
      "Buendía\n",
      "había\n",
      "de\n",
      "recordar\n",
      "aquella\n",
      "tarde\n",
      "remota\n",
      "en\n",
      "que\n",
      "su\n",
      "padre\n",
      "lo\n",
      "llevó\n",
      "a\n",
      "conocer\n",
      "el\n",
      "hielo\n",
      ".\n",
      "\n",
      "\n"
     ]
    }
   ],
   "source": [
    "print(\"Tokens in the text:\")\n",
    "for token in doc:\n",
    "    print(token.text)"
   ]
  },
  {
   "cell_type": "code",
   "execution_count": 17,
   "metadata": {},
   "outputs": [
    {
     "name": "stdout",
     "output_type": "stream",
     "text": [
      "Aureliano Buendía PER\n",
      "Macondo LOC\n"
     ]
    }
   ],
   "source": [
    "# Find named entities, phrases and concepts\n",
    "for entity in doc.ents:\n",
    "    print(entity.text, entity.label_)"
   ]
  },
  {
   "cell_type": "code",
   "execution_count": 18,
   "metadata": {},
   "outputs": [
    {
     "name": "stdout",
     "output_type": "stream",
     "text": [
      "\n",
      " \n",
      " SPACE SPACE dep \n",
      " False False\n",
      "Muchos mucho DET DET det Xxxxx True True\n",
      "años año NOUN NOUN obl xxxx True False\n",
      "después después ADV ADV advmod xxxx True True\n",
      ", , PUNCT PUNCT punct , False False\n",
      "frente frente NOUN NOUN case xxxx True False\n",
      "al al DET DET det xx True True\n",
      "pelotón pelotón NOUN NOUN obl xxxx True False\n",
      "de de ADP ADP case xx True True\n",
      "fusilamiento fusilamiento NOUN NOUN nmod xxxx True False\n",
      ", , PUNCT PUNCT punct , False False\n",
      "\" \" PUNCT PUNCT punct \" False False\n",
      "\n",
      " \n",
      " SPACE SPACE dep \n",
      " False False\n",
      "el el DET DET det xx True True\n",
      "coronel coronel NOUN NOUN nsubj xxxx True False\n",
      "Aureliano Aureliano PROPN PROPN appos Xxxxx True False\n",
      "Buendía Buendía PROPN PROPN flat Xxxxx True False\n",
      "había haber AUX AUX aux xxxx True True\n",
      "de de ADP ADP mark xx True True\n",
      "recordar recordar VERB VERB csubj xxxx True False\n",
      "aquella aquel DET DET det xxxx True True\n",
      "tarde tarde NOUN NOUN obl xxxx True True\n",
      "remota remoto ADJ ADJ ROOT xxxx True False\n",
      "en en ADP ADP mark xx True True\n",
      "que que SCONJ SCONJ mark xxx True True\n",
      "su su DET DET det xx True True\n",
      "padre padre NOUN NOUN nsubj xxxx True False\n",
      "lo él PRON PRON iobj xx True True\n",
      "llevó llevar VERB VERB advcl xxxx True False\n",
      "a a ADP ADP mark x True True\n",
      "conocer conocer VERB VERB advcl xxxx True True\n",
      "el el DET DET det xx True True\n",
      "hielo hielo NOUN NOUN obj xxxx True False\n",
      ". . PUNCT PUNCT punct . False False\n",
      "\n",
      " \n",
      " SPACE SPACE dep \n",
      " False False\n",
      "Macondo Macondo PROPN PROPN nsubj Xxxxx True False\n",
      "era ser AUX AUX cop xxx True True\n",
      "entonces entonces ADV ADV advmod xxxx True True\n",
      "una uno DET DET det xxx True True\n",
      "aldea aldea NOUN NOUN ROOT xxxx True False\n",
      "de de ADP ADP case xx True True\n",
      "20 20 NUM NUM nummod dd False False\n",
      "casas casa NOUN NOUN nmod xxxx True False\n",
      "de de ADP ADP case xx True True\n",
      "barro barro NOUN NOUN nmod xxxx True False\n",
      "y y CCONJ CCONJ cc x True True\n",
      "cañabrava cañabravo ADJ ADJ conj xxxx True False\n",
      "construidas construido ADJ ADJ advmod xxxx True False\n",
      "a a ADP ADP case x True True\n",
      "la el DET DET det xx True True\n",
      "orilla orilla NOUN NOUN obj xxxx True False\n",
      "de de ADP ADP case xx True True\n",
      "un uno DET DET det xx True True\n",
      "río río NOUN NOUN nmod xxx True False\n",
      "de de ADP ADP case xx True True\n",
      "aguas agua NOUN NOUN nmod xxxx True False\n",
      "diáfanas diáfana ADJ ADJ amod xxxx True False\n",
      "que que PRON PRON nsubj xxx True True\n",
      "se él PRON PRON expl:pv xx True True\n",
      "precipitaban precipitar VERB VERB acl xxxx True False\n",
      "por por ADP ADP case xxx True True\n",
      "un uno DET DET det xx True True\n",
      "lecho lecho NOUN NOUN obl xxxx True False\n",
      "de de ADP ADP case xx True True\n",
      "piedras piedra NOUN NOUN nmod xxxx True False\n",
      "pulidas pulida ADJ ADJ amod xxxx True False\n",
      ", , PUNCT PUNCT punct , False False\n",
      "blancas blanco ADJ ADJ conj xxxx True False\n",
      "y y CCONJ CCONJ cc x True True\n",
      "enormes enorme ADJ ADJ conj xxxx True False\n",
      "como como SCONJ SCONJ mark xxxx True True\n",
      "huevos huevo NOUN NOUN nmod xxxx True False\n",
      "prehistóricos prehistórico ADJ ADJ amod xxxx True False\n",
      ". . PUNCT PUNCT punct . False False\n",
      "\n",
      " \n",
      " SPACE SPACE dep \n",
      " False False\n"
     ]
    }
   ],
   "source": [
    "# Find morphology and lemmatize\n",
    "for token in doc:\n",
    "    print(token.text, token.lemma_, token.pos_, token.tag_, token.dep_,\n",
    "          token.shape_, token.is_alpha, token.is_stop)"
   ]
  },
  {
   "cell_type": "code",
   "execution_count": 19,
   "metadata": {},
   "outputs": [
    {
     "name": "stdout",
     "output_type": "stream",
     "text": [
      "Filtered sentence (without stop-words): [\n",
      ", años, ,, frente, pelotón, fusilamiento, ,, \", \n",
      ", coronel, Aureliano, Buendía, recordar, remota, padre, llevó, hielo, ., \n",
      ", Macondo, aldea, 20, casas, barro, cañabrava, construidas, orilla, río, aguas, diáfanas, precipitaban, lecho, piedras, pulidas, ,, blancas, enormes, huevos, prehistóricos, ., \n",
      "]\n"
     ]
    }
   ],
   "source": [
    "# eliminate stop words\n",
    "filtered_sentence = [w for w in doc if not w.is_stop]\n",
    "print(\"Filtered sentence (without stop-words):\", filtered_sentence)\n"
   ]
  }
 ],
 "metadata": {
  "kernelspec": {
   "display_name": ".venv",
   "language": "python",
   "name": "python3"
  },
  "language_info": {
   "codemirror_mode": {
    "name": "ipython",
    "version": 3
   },
   "file_extension": ".py",
   "mimetype": "text/x-python",
   "name": "python",
   "nbconvert_exporter": "python",
   "pygments_lexer": "ipython3",
   "version": "3.10.0"
  }
 },
 "nbformat": 4,
 "nbformat_minor": 2
}
