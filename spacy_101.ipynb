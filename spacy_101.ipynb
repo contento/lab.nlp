{
 "cells": [
  {
   "cell_type": "code",
   "execution_count": null,
   "metadata": {},
   "outputs": [],
   "source": [
    "!python -m spacy download es_core_news_sm"
   ]
  },
  {
   "cell_type": "code",
   "execution_count": 23,
   "metadata": {},
   "outputs": [],
   "source": [
    "import spacy\n",
    "\n",
    "# Load Spanish tokenizer, tagger, parser, NER and word vectors\n",
    "nlp = spacy.load(\"es_core_news_sm\")\n",
    "\n",
    "text = \"\"\"\n",
    "Muchos años después, \n",
    "frente al pelotón de fusilamiento,\n",
    "el coronel Aureliano Buendía había de recordar aquella tarde remota en que su padre lo llevó a conocer el hielo.\n",
    "Macondo era entonces una aldea de 20 casas de barro y cañabrava\n",
    "construidas a la orilla de un río de aguas diáfanas\n",
    "que se precipitaban por un lecho de piedras pulidas,\n",
    "blancas y enormes como huevos prehistóricos.\n",
    "\"\"\"\n",
    "doc = nlp(text)"
   ]
  },
  {
   "cell_type": "code",
   "execution_count": 20,
   "metadata": {},
   "outputs": [
    {
     "name": "stdout",
     "output_type": "stream",
     "text": [
      "Tokens in the text:\n",
      "\n",
      "\n",
      "Muchos\n",
      "años\n",
      "después\n",
      ",\n",
      "\n",
      "\n",
      "frente\n",
      "al\n",
      "pelotón\n",
      "de\n",
      "fusilamiento\n",
      ",\n",
      "\"\n",
      "\n",
      "\n",
      "el\n",
      "coronel\n",
      "Aureliano\n",
      "Buendía\n",
      "había\n",
      "de\n",
      "recordar\n",
      "aquella\n",
      "tarde\n",
      "remota\n",
      "en\n",
      "que\n",
      "su\n",
      "padre\n",
      "lo\n",
      "llevó\n",
      "a\n",
      "conocer\n",
      "el\n",
      "hielo\n",
      ".\n",
      "\n",
      "\n",
      "Macondo\n",
      "era\n",
      "entonces\n",
      "una\n",
      "aldea\n",
      "de\n",
      "20\n",
      "casas\n",
      "de\n",
      "barro\n",
      "y\n",
      "cañabrava\n",
      "\n",
      "\n",
      "construidas\n",
      "a\n",
      "la\n",
      "orilla\n",
      "de\n",
      "un\n",
      "río\n",
      "de\n",
      "aguas\n",
      "diáfanas\n",
      "\n",
      "\n",
      "que\n",
      "se\n",
      "precipitaban\n",
      "por\n",
      "un\n",
      "lecho\n",
      "de\n",
      "piedras\n",
      "pulidas\n",
      ",\n",
      "\n",
      "\n",
      "blancas\n",
      "y\n",
      "enormes\n",
      "como\n",
      "huevos\n",
      "prehistóricos\n",
      ".\n",
      "\n",
      "\n"
     ]
    }
   ],
   "source": [
    "print(\"Tokens in the text:\")\n",
    "for token in doc:\n",
    "    print(token.text)"
   ]
  },
  {
   "cell_type": "code",
   "execution_count": 24,
   "metadata": {},
   "outputs": [
    {
     "name": "stdout",
     "output_type": "stream",
     "text": [
      "Aureliano Buendía PER\n",
      "Macondo LOC\n"
     ]
    }
   ],
   "source": [
    "# Find named entities, phrases and concepts\n",
    "for entity in doc.ents:\n",
    "    print(entity.text, entity.label_)"
   ]
  },
  {
   "cell_type": "code",
   "execution_count": 25,
   "metadata": {},
   "outputs": [
    {
     "name": "stdout",
     "output_type": "stream",
     "text": [
      "\n",
      " \n",
      "\n",
      "años año\n",
      ", ,\n",
      "\n",
      " \n",
      "\n",
      "frente frente\n",
      "pelotón pelotón\n",
      "fusilamiento fusilamiento\n",
      ", ,\n",
      "\n",
      " \n",
      "\n",
      "coronel coronel\n",
      "Aureliano Aureliano\n",
      "Buendía Buendía\n",
      "recordar recordar\n",
      "remota remoto\n",
      "padre padre\n",
      "llevó llevar\n",
      "hielo hielo\n",
      ". .\n",
      "\n",
      " \n",
      "\n",
      "Macondo Macondo\n",
      "aldea aldea\n",
      "20 20\n",
      "casas casa\n",
      "barro barro\n",
      "cañabrava cañabravo\n",
      "\n",
      " \n",
      "\n",
      "construidas construido\n",
      "orilla orilla\n",
      "río río\n",
      "aguas agua\n",
      "diáfanas diáfana\n",
      "\n",
      " \n",
      "\n",
      "precipitaban precipitar\n",
      "lecho lecho\n",
      "piedras piedra\n",
      "pulidas pulida\n",
      ", ,\n",
      "\n",
      " \n",
      "\n",
      "blancas blanco\n",
      "enormes enorme\n",
      "huevos huevo\n",
      "prehistóricos prehistórico\n",
      ". .\n",
      "\n",
      " \n",
      "\n"
     ]
    }
   ],
   "source": [
    "# Show only lemmas\n",
    "for token in doc:\n",
    "    if token.is_stop == False:\n",
    "        print(token, token.lemma_)"
   ]
  },
  {
   "cell_type": "code",
   "execution_count": 26,
   "metadata": {},
   "outputs": [
    {
     "name": "stdout",
     "output_type": "stream",
     "text": [
      "\n",
      ": \n",
      "Muchos: Gender=Masc|NumType=Card|Number=Plur|PronType=Ind\n",
      "años: Gender=Masc|Number=Plur\n",
      "después: \n",
      ",: PunctType=Comm\n",
      "\n",
      ": \n",
      "frente: \n",
      "al: Definite=Def|Gender=Masc|Number=Sing|PronType=Art\n",
      "pelotón: Gender=Masc|Number=Sing\n",
      "de: \n",
      "fusilamiento: Gender=Masc|Number=Sing\n",
      ",: PunctType=Comm\n",
      "\n",
      ": \n",
      "el: Definite=Def|Gender=Masc|Number=Sing|PronType=Art\n",
      "coronel: Gender=Masc|Number=Sing\n",
      "Aureliano: \n",
      "Buendía: \n",
      "había: Mood=Ind|Number=Sing|Person=3|Tense=Imp|VerbForm=Fin\n",
      "de: \n",
      "recordar: VerbForm=Inf\n",
      "aquella: Gender=Fem|Number=Sing|PronType=Dem\n",
      "tarde: Gender=Fem|Number=Sing\n",
      "remota: Gender=Fem|Number=Sing\n",
      "en: \n",
      "que: \n",
      "su: Number=Sing|Person=3|Poss=Yes|PronType=Prs\n",
      "padre: Gender=Masc|Number=Sing\n",
      "lo: Case=Acc|Gender=Masc|Number=Sing|Person=3|PrepCase=Npr|PronType=Prs\n",
      "llevó: Mood=Ind|Number=Sing|Person=3|Tense=Past|VerbForm=Fin\n",
      "a: \n",
      "conocer: VerbForm=Inf\n",
      "el: Definite=Def|Gender=Masc|Number=Sing|PronType=Art\n",
      "hielo: Gender=Masc|Number=Sing\n",
      ".: PunctType=Peri\n",
      "\n",
      ": \n",
      "Macondo: \n",
      "era: Mood=Ind|Number=Sing|Person=3|Tense=Imp|VerbForm=Fin\n",
      "entonces: \n",
      "una: Definite=Ind|Gender=Fem|Number=Sing|PronType=Art\n",
      "aldea: Gender=Fem|Number=Sing\n",
      "de: \n",
      "20: NumForm=Digit|NumType=Card\n",
      "casas: Gender=Fem|Number=Plur\n",
      "de: \n",
      "barro: Gender=Masc|Number=Sing\n",
      "y: \n",
      "cañabrava: Gender=Fem|NumType=Ord|Number=Sing\n",
      "\n",
      ": \n",
      "construidas: Gender=Fem|Number=Plur|VerbForm=Part\n",
      "a: \n",
      "la: Definite=Def|Gender=Fem|Number=Sing|PronType=Art\n",
      "orilla: Gender=Fem|Number=Sing\n",
      "de: \n",
      "un: Definite=Ind|Gender=Masc|Number=Sing|PronType=Art\n",
      "río: Gender=Masc|Number=Sing\n",
      "de: \n",
      "aguas: Gender=Fem|Number=Plur\n",
      "diáfanas: Gender=Fem|Number=Plur\n",
      "\n",
      ": \n",
      "que: PronType=Int,Rel\n",
      "se: Case=Acc|Person=3|PrepCase=Npr|PronType=Prs|Reflex=Yes\n",
      "precipitaban: Mood=Ind|Number=Plur|Person=3|Tense=Imp|VerbForm=Fin\n",
      "por: \n",
      "un: Definite=Ind|Gender=Masc|Number=Sing|PronType=Art\n",
      "lecho: Gender=Masc|Number=Sing\n",
      "de: \n",
      "piedras: Gender=Fem|Number=Plur\n",
      "pulidas: Gender=Fem|Number=Plur|VerbForm=Part\n",
      ",: PunctType=Comm\n",
      "\n",
      ": \n",
      "blancas: Gender=Fem|Number=Plur\n",
      "y: \n",
      "enormes: Number=Plur\n",
      "como: \n",
      "huevos: Gender=Masc|Number=Plur\n",
      "prehistóricos: Gender=Masc|Number=Plur\n",
      ".: PunctType=Peri\n",
      "\n",
      ": \n"
     ]
    }
   ],
   "source": [
    "# show morphemes\n",
    "for token in doc:\n",
    "    print(f\"{token}: {token.morph}\")"
   ]
  },
  {
   "cell_type": "code",
   "execution_count": 28,
   "metadata": {},
   "outputs": [
    {
     "name": "stdout",
     "output_type": "stream",
     "text": [
      "Filtered sentence (without stop-words): [\n",
      ", años, ,, \n",
      ", frente, pelotón, fusilamiento, ,, \n",
      ", coronel, Aureliano, Buendía, recordar, remota, padre, llevó, hielo, ., \n",
      ", Macondo, aldea, 20, casas, barro, cañabrava, \n",
      ", construidas, orilla, río, aguas, diáfanas, \n",
      ", precipitaban, lecho, piedras, pulidas, ,, \n",
      ", blancas, enormes, huevos, prehistóricos, ., \n",
      "]\n"
     ]
    }
   ],
   "source": [
    "# eliminate stop words\n",
    "filtered_sentence = [w for w in doc if not w.is_stop]\n",
    "print(\"Filtered sentence (without stop-words):\", filtered_sentence)\n"
   ]
  },
  {
   "cell_type": "code",
   "execution_count": 38,
   "metadata": {},
   "outputs": [
    {
     "name": "stderr",
     "output_type": "stream",
     "text": [
      "2024-01-10 20:32:41,818 - INFO    - dle.search_by_url - Performing request to: 'https://dle.rae.es/fusilamiento'...\n"
     ]
    },
    {
     "name": "stdout",
     "output_type": "stream",
     "text": [
      "años => {'title': 'año | Definición | Diccionario de la lengua española | RAE - ASALE', 'articles': [{'id': '31Ws94D', 'lema': {'lema': 'año1', 'index': 0, 'female_suffix': ''}, 'supplementary_info': [{'text': 'Del lat. (latín) annus.'}], 'is': {'verb': False}, 'definitions': [{'index': 1, 'category': {'abbr': 'm.', 'text': 'nombre masculino'}, 'is': {'adjective': False, 'adverb': False, 'interjection': False, 'noun': True, 'pronoun': False, 'verb': False}, 'abbreviations': [{'abbr': 'Astron.', 'text': 'Astronomía'}], 'sentence': {'text': '365 , 5 , 48   46 .'}, 'examples': []}, {'index': 2, 'category': {'abbr': 'm.', 'text': 'nombre masculino'}, 'is': {'adjective': False, 'adverb': False, 'interjection': False, 'noun': True, 'pronoun': False, 'verb': False}, 'abbreviations': [], 'sentence': {'text': ',      1     31  ,  .Sin.: (Sinónimos o afines)'}, 'examples': []}, {'index': 3, 'category': {'abbr': 'm.', 'text': 'nombre masculino'}, 'is': {'adjective': False, 'adverb': False, 'interjection': False, 'noun': True, 'pronoun': False, 'verb': False}, 'abbreviations': [], 'sentence': {'text': ',      .Sin.: (Sinónimos o afines)'}, 'examples': []}, {'index': 4, 'category': {'abbr': 'm.', 'text': 'nombre masculino'}, 'is': {'adjective': False, 'adverb': False, 'interjection': False, 'noun': True, 'pronoun': False, 'verb': False}, 'abbreviations': [], 'sentence': {'text': ',            ,        .Sin.: (Sinónimo o afín)'}, 'examples': []}, {'index': 5, 'category': {'abbr': 'm.', 'text': 'nombre masculino'}, 'is': {'adjective': False, 'adverb': False, 'interjection': False, 'noun': True, 'pronoun': False, 'verb': False}, 'abbreviations': [], 'sentence': {'text': '.'}, 'examples': []}, {'index': 6, 'category': {'abbr': 'm.', 'text': 'nombre masculino'}, 'is': {'adjective': False, 'adverb': False, 'interjection': False, 'noun': True, 'pronoun': False, 'verb': False}, 'abbreviations': [{'abbr': 'pl.', 'text': 'plural'}], 'sentence': {'text': ''}, 'examples': [{'text': 'Celebrar los años.'}, {'text': 'Dar los años.'}]}, {'index': 7, 'category': {'abbr': 'm.', 'text': 'nombre masculino'}, 'is': {'adjective': False, 'adverb': False, 'interjection': False, 'noun': True, 'pronoun': False, 'verb': False}, 'abbreviations': [{'abbr': 'pl.', 'text': 'plural'}], 'sentence': {'text': 'edad (‖  ). Sin.: (Sinónimos o afines)'}, 'examples': [{'text': 'Está muy joven para sus años.'}]}, {'index': 8, 'category': {'abbr': 'm.', 'text': 'nombre masculino'}, 'is': {'adjective': False, 'adverb': False, 'interjection': False, 'noun': True, 'pronoun': False, 'verb': False}, 'abbreviations': [{'abbr': 'pl.', 'text': 'plural'}], 'sentence': {'text': '.'}, 'examples': [{'text': 'La España de los años noventa.'}]}], 'complex_forms': [{'lema': {'lema': 'año académico'}, 'supplementary_info': [], 'definitions': [{'index': 1, 'category': {'abbr': 'm.', 'text': 'nombre masculino'}, 'is': {'adjective': False, 'adverb': False, 'interjection': False, 'noun': True, 'pronoun': False, 'verb': False}, 'abbreviations': [], 'sentence': {'text': ',         .'}, 'examples': []}]}, {'lema': {'lema': 'año anomalístico'}, 'supplementary_info': [], 'definitions': [{'index': 1, 'category': {'abbr': 'm.', 'text': 'nombre masculino'}, 'is': {'adjective': False, 'adverb': False, 'interjection': False, 'noun': True, 'pronoun': False, 'verb': False}, 'abbreviations': [{'abbr': 'Astron.', 'text': 'Astronomía'}], 'sentence': {'text': '365 , 6 , 13   59 .'}, 'examples': []}]}, {'lema': {'lema': 'año árabe'}, 'supplementary_info': [], 'definitions': [{'index': 1, 'category': {'abbr': 'm.', 'text': 'nombre masculino'}, 'is': {'adjective': False, 'adverb': False, 'interjection': False, 'noun': True, 'pronoun': False, 'verb': False}, 'abbreviations': [{'abbr': 'Astron.', 'text': 'Astronomía'}], 'sentence': {'text': 'año lunar.'}, 'examples': []}]}, {'lema': {'lema': 'año astral, o año astronómico'}, 'supplementary_info': [], 'definitions': [{'index': 1, 'category': {'abbr': 'm.', 'text': 'nombre masculino'}, 'is': {'adjective': False, 'adverb': False, 'interjection': False, 'noun': True, 'pronoun': False, 'verb': False}, 'abbreviations': [{'abbr': 'Astron.', 'text': 'Astronomía'}], 'sentence': {'text': 'año sideral.'}, 'examples': []}]}, {'lema': {'lema': 'año base'}, 'supplementary_info': [], 'definitions': [{'index': 1, 'category': {'abbr': 'm.', 'text': 'nombre masculino'}, 'is': {'adjective': False, 'adverb': False, 'interjection': False, 'noun': True, 'pronoun': False, 'verb': False}, 'abbreviations': [{'abbr': 'Econ.', 'text': 'Economía'}], 'sentence': {'text': '.'}, 'examples': []}]}, {'lema': {'lema': 'año bisiesto'}, 'supplementary_info': [], 'definitions': [{'index': 1, 'category': {'abbr': 'm.', 'text': 'nombre masculino'}, 'is': {'adjective': False, 'adverb': False, 'interjection': False, 'noun': True, 'pronoun': False, 'verb': False}, 'abbreviations': [], 'sentence': {'text': ',     .'}, 'examples': []}]}, {'lema': {'lema': 'año civil'}, 'supplementary_info': [], 'definitions': [{'index': 1, 'category': {'abbr': 'm.', 'text': 'nombre masculino'}, 'is': {'adjective': False, 'adverb': False, 'interjection': False, 'noun': True, 'pronoun': False, 'verb': False}, 'abbreviations': [], 'sentence': {'text': '; 365     366  .'}, 'examples': []}]}, {'lema': {'lema': 'año climatérico'}, 'supplementary_info': [], 'definitions': [{'index': 1, 'category': {'abbr': 'm.', 'text': 'nombre masculino'}, 'is': {'adjective': False, 'adverb': False, 'interjection': False, 'noun': True, 'pronoun': False, 'verb': False}, 'abbreviations': [], 'sentence': {'text': ',   ,   ,   ,            .'}, 'examples': []}, {'index': 2, 'category': {'abbr': 'm.', 'text': 'nombre masculino'}, 'is': {'adjective': False, 'adverb': False, 'interjection': False, 'noun': True, 'pronoun': False, 'verb': False}, 'abbreviations': [], 'sentence': {'text': '.'}, 'examples': []}]}, {'lema': {'lema': 'año común'}, 'supplementary_info': [], 'definitions': [{'index': 1, 'category': {'abbr': 'm.', 'text': 'nombre masculino'}, 'is': {'adjective': False, 'adverb': False, 'interjection': False, 'noun': True, 'pronoun': False, 'verb': False}, 'abbreviations': [], 'sentence': {'text': '365 .'}, 'examples': []}]}, {'lema': {'lema': 'año de gracia'}, 'supplementary_info': [], 'definitions': [{'index': 1, 'category': {'abbr': 'm.', 'text': 'nombre masculino'}, 'is': {'adjective': False, 'adverb': False, 'interjection': False, 'noun': True, 'pronoun': False, 'verb': False}, 'abbreviations': [], 'sentence': {'text': '.'}, 'examples': []}]}, {'lema': {'lema': 'año de jubileo'}, 'supplementary_info': [], 'definitions': [{'index': 1, 'category': {'abbr': 'm.', 'text': 'nombre masculino'}, 'is': {'adjective': False, 'adverb': False, 'interjection': False, 'noun': True, 'pronoun': False, 'verb': False}, 'abbreviations': [], 'sentence': {'text': 'año santo.'}, 'examples': []}]}, {'lema': {'lema': 'año de la nana, año de la nanita, año de la pera, o año de la polca'}, 'supplementary_info': [], 'definitions': [{'index': 1, 'category': {'abbr': 'm. coloqs.', 'text': 'nombres masculinos coloquiales'}, 'is': {'adjective': False, 'adverb': False, 'interjection': False, 'noun': False, 'pronoun': False, 'verb': False}, 'abbreviations': [], 'sentence': {'text': '.'}, 'examples': []}]}, {'lema': {'lema': 'año de luz'}, 'supplementary_info': [], 'definitions': [{'index': 1, 'category': {'abbr': 'm.', 'text': 'nombre masculino'}, 'is': {'adjective': False, 'adverb': False, 'interjection': False, 'noun': True, 'pronoun': False, 'verb': False}, 'abbreviations': [{'abbr': 'Astron.', 'text': 'Astronomía'}, {'abbr': 'p. us.', 'text': 'poco usado'}], 'sentence': {'text': 'año luz.'}, 'examples': []}]}, {'lema': {'lema': 'año de nuestra salud'}, 'supplementary_info': [], 'definitions': [{'index': 1, 'category': {'abbr': 'm.', 'text': 'nombre masculino'}, 'is': {'adjective': False, 'adverb': False, 'interjection': False, 'noun': True, 'pronoun': False, 'verb': False}, 'abbreviations': [], 'sentence': {'text': 'año de gracia.'}, 'examples': []}]}, {'lema': {'lema': 'año eclesiástico'}, 'supplementary_info': [], 'definitions': [{'index': 1, 'category': {'abbr': 'm.', 'text': 'nombre masculino'}, 'is': {'adjective': False, 'adverb': False, 'interjection': False, 'noun': True, 'pronoun': False, 'verb': False}, 'abbreviations': [], 'sentence': {'text': 'año litúrgico.'}, 'examples': []}]}, {'lema': {'lema': 'año económico'}, 'supplementary_info': [], 'definitions': [{'index': 1, 'category': {'abbr': 'm.', 'text': 'nombre masculino'}, 'is': {'adjective': False, 'adverb': False, 'interjection': False, 'noun': True, 'pronoun': False, 'verb': False}, 'abbreviations': [], 'sentence': {'text': '.'}, 'examples': []}]}, {'lema': {'lema': 'año embolismal'}, 'supplementary_info': [], 'definitions': [{'index': 1, 'category': {'abbr': 'm.', 'text': 'nombre masculino'}, 'is': {'adjective': False, 'adverb': False, 'interjection': False, 'noun': True, 'pronoun': False, 'verb': False}, 'abbreviations': [], 'sentence': {'text': '.'}, 'examples': []}]}, {'lema': {'lema': 'año emergente'}, 'supplementary_info': [], 'definitions': [{'index': 1, 'category': {'abbr': 'm.', 'text': 'nombre masculino'}, 'is': {'adjective': False, 'adverb': False, 'interjection': False, 'noun': True, 'pronoun': False, 'verb': False}, 'abbreviations': [], 'sentence': {'text': ',            ,         .'}, 'examples': []}]}, {'lema': {'lema': 'año escolar'}, 'supplementary_info': [], 'definitions': [{'index': 1, 'category': {'abbr': 'm.', 'text': 'nombre masculino'}, 'is': {'adjective': False, 'adverb': False, 'interjection': False, 'noun': True, 'pronoun': False, 'verb': False}, 'abbreviations': [], 'sentence': {'text': 'año académico.'}, 'examples': []}]}, {'lema': {'lema': 'año intercalar'}, 'supplementary_info': [], 'definitions': [{'index': 1, 'category': {'abbr': 'm.', 'text': 'nombre masculino'}, 'is': {'adjective': False, 'adverb': False, 'interjection': False, 'noun': True, 'pronoun': False, 'verb': False}, 'abbreviations': [], 'sentence': {'text': 'año bisiesto.'}, 'examples': []}]}, {'lema': {'lema': 'año juliano'}, 'supplementary_info': [], 'definitions': [{'index': 1, 'category': {'abbr': 'm.', 'text': 'nombre masculino'}, 'is': {'adjective': False, 'adverb': False, 'interjection': False, 'noun': True, 'pronoun': False, 'verb': False}, 'abbreviations': [{'abbr': 'Astron.', 'text': 'Astronomía'}], 'sentence': {'text': ',   ,    365   6 .'}, 'examples': []}]}, {'lema': {'lema': 'año litúrgico'}, 'supplementary_info': [], 'definitions': [{'index': 1, 'category': {'abbr': 'm.', 'text': 'nombre masculino'}, 'is': {'adjective': False, 'adverb': False, 'interjection': False, 'noun': True, 'pronoun': False, 'verb': False}, 'abbreviations': [], 'sentence': {'text': '.'}, 'examples': []}]}, {'lema': {'lema': 'año lunar'}, 'supplementary_info': [], 'definitions': [{'index': 1, 'category': {'abbr': 'm.', 'text': 'nombre masculino'}, 'is': {'adjective': False, 'adverb': False, 'interjection': False, 'noun': True, 'pronoun': False, 'verb': False}, 'abbreviations': [{'abbr': 'Astron.', 'text': 'Astronomía'}], 'sentence': {'text': ',    354 .'}, 'examples': []}]}, {'lema': {'lema': 'año luz'}, 'supplementary_info': [], 'definitions': [{'index': 1, 'category': {'abbr': 'm.', 'text': 'nombre masculino'}, 'is': {'adjective': False, 'adverb': False, 'interjection': False, 'noun': True, 'pronoun': False, 'verb': False}, 'abbreviations': [{'abbr': 'Astron.', 'text': 'Astronomía'}], 'sentence': {'text': ',                    9,46 billones (‖    )  .'}, 'examples': []}]}, {'lema': {'lema': 'año natural'}, 'supplementary_info': [], 'definitions': [{'index': 1, 'category': {'abbr': 'm.', 'text': 'nombre masculino'}, 'is': {'adjective': False, 'adverb': False, 'interjection': False, 'noun': True, 'pronoun': False, 'verb': False}, 'abbreviations': [], 'sentence': {'text': '.'}, 'examples': []}]}, {'lema': {'lema': 'año nuevo'}, 'supplementary_info': [{'text': 'Escr. t. con mays. iniciales (Escrito también con mayúsculas iniciales) en acep. (acepción) 1.'}], 'definitions': [{'index': 1, 'category': {'abbr': 'm.', 'text': 'nombre masculino'}, 'is': {'adjective': False, 'adverb': False, 'interjection': False, 'noun': True, 'pronoun': False, 'verb': False}, 'abbreviations': [], 'sentence': {'text': ''}, 'examples': []}, {'index': 2, 'category': {'abbr': 'm.', 'text': 'nombre masculino'}, 'is': {'adjective': False, 'adverb': False, 'interjection': False, 'noun': True, 'pronoun': False, 'verb': False}, 'abbreviations': [], 'sentence': {'text': '.'}, 'examples': []}]}, {'lema': {'lema': 'año sabático'}, 'supplementary_info': [], 'definitions': [{'index': 1, 'category': {'abbr': 'm.', 'text': 'nombre masculino'}, 'is': {'adjective': False, 'adverb': False, 'interjection': False, 'noun': True, 'pronoun': False, 'verb': False}, 'abbreviations': [], 'sentence': {'text': '.'}, 'examples': []}]}, {'lema': {'lema': 'año santo'}, 'supplementary_info': [], 'definitions': [{'index': 1, 'category': {'abbr': 'm.', 'text': 'nombre masculino'}, 'is': {'adjective': False, 'adverb': False, 'interjection': False, 'noun': True, 'pronoun': False, 'verb': False}, 'abbreviations': [], 'sentence': {'text': 'Roma   ,       ,    ,       .'}, 'examples': []}]}, {'lema': {'lema': 'año santo de Santiago'}, 'supplementary_info': [], 'definitions': [{'index': 1, 'category': {'abbr': 'm.', 'text': 'nombre masculino'}, 'is': {'adjective': False, 'adverb': False, 'interjection': False, 'noun': True, 'pronoun': False, 'verb': False}, 'abbreviations': [], 'sentence': {'text': 'Santiago,             .'}, 'examples': []}]}, {'lema': {'lema': 'año sideral, o año sidéreo'}, 'supplementary_info': [], 'definitions': [{'index': 1, 'category': {'abbr': 'm.', 'text': 'nombre masculino'}, 'is': {'adjective': False, 'adverb': False, 'interjection': False, 'noun': True, 'pronoun': False, 'verb': False}, 'abbreviations': [{'abbr': 'Astron.', 'text': 'Astronomía'}], 'sentence': {'text': '365 , 6 , 9   24 .'}, 'examples': []}]}, {'lema': {'lema': 'año sinódico'}, 'supplementary_info': [], 'definitions': [{'index': 1, 'category': {'abbr': 'm.', 'text': 'nombre masculino'}, 'is': {'adjective': False, 'adverb': False, 'interjection': False, 'noun': True, 'pronoun': False, 'verb': False}, 'abbreviations': [{'abbr': 'Astron.', 'text': 'Astronomía'}], 'sentence': {'text': '.'}, 'examples': []}]}, {'lema': {'lema': 'año trópico'}, 'supplementary_info': [], 'definitions': [{'index': 1, 'category': {'abbr': 'm.', 'text': 'nombre masculino'}, 'is': {'adjective': False, 'adverb': False, 'interjection': False, 'noun': True, 'pronoun': False, 'verb': False}, 'abbreviations': [{'abbr': 'Astron.', 'text': 'Astronomía'}], 'sentence': {'text': '365 , 5 , 48   46 .'}, 'examples': []}]}, {'lema': {'lema': 'año vulgar'}, 'supplementary_info': [], 'definitions': [{'index': 1, 'category': {'abbr': 'm.', 'text': 'nombre masculino'}, 'is': {'adjective': False, 'adverb': False, 'interjection': False, 'noun': True, 'pronoun': False, 'verb': False}, 'abbreviations': [], 'sentence': {'text': 'año común.'}, 'examples': []}]}, {'lema': {'lema': 'año y vez'}, 'supplementary_info': [], 'definitions': [{'index': 1, 'category': {'abbr': 'm.', 'text': 'nombre masculino'}, 'is': {'adjective': False, 'adverb': False, 'interjection': False, 'noun': True, 'pronoun': False, 'verb': False}, 'abbreviations': [{'abbr': 'U.', 'text': 'Usado'}], 'sentence': {'text': ',           .'}, 'examples': []}]}, {'lema': {'lema': 'años de discreción'}, 'supplementary_info': [], 'definitions': [{'index': 1, 'category': {'abbr': 'm.', 'text': 'nombre masculino'}, 'is': {'adjective': False, 'adverb': False, 'interjection': False, 'noun': True, 'pronoun': False, 'verb': False}, 'abbreviations': [{'abbr': 'pl.', 'text': 'plural'}], 'sentence': {'text': 'uso de razón (‖          ).'}, 'examples': []}]}, {'lema': {'lema': 'de buen año'}, 'supplementary_info': [], 'definitions': [{'index': 1, 'category': {'abbr': 'loc. adj.', 'text': 'locución adjetiva'}, 'is': {'adjective': False, 'adverb': False, 'interjection': False, 'noun': False, 'pronoun': False, 'verb': False}, 'abbreviations': [], 'sentence': {'text': ', .'}, 'examples': []}]}, {'lema': {'lema': 'echársele a alguien los años encima'}, 'supplementary_info': [], 'definitions': [{'index': 1, 'category': {'abbr': 'loc. verb.', 'text': 'locución verbal'}, 'is': {'adjective': False, 'adverb': False, 'interjection': False, 'noun': False, 'pronoun': False, 'verb': False}, 'abbreviations': [], 'sentence': {'text': '.'}, 'examples': []}]}, {'lema': {'lema': 'entrado, da en años'}, 'supplementary_info': [], 'definitions': [{'index': 1, 'category': {'abbr': 'loc. adj.', 'text': 'locución adjetiva'}, 'is': {'adjective': False, 'adverb': False, 'interjection': False, 'noun': False, 'pronoun': False, 'verb': False}, 'abbreviations': [], 'sentence': {'text': ':      .'}, 'examples': []}]}, {'lema': {'lema': 'entre año'}, 'supplementary_info': [], 'definitions': [{'index': 1, 'category': {'abbr': 'loc. adv.', 'text': 'locución adverbial'}, 'is': {'adjective': False, 'adverb': False, 'interjection': False, 'noun': False, 'pronoun': False, 'verb': False}, 'abbreviations': [], 'sentence': {'text': ''}, 'examples': []}]}, {'lema': {'lema': 'estar a años luz'}, 'supplementary_info': [], 'definitions': [{'index': 1, 'category': {'abbr': 'loc. verb.', 'text': 'locución verbal'}, 'is': {'adjective': False, 'adverb': False, 'interjection': False, 'noun': False, 'pronoun': False, 'verb': False}, 'abbreviations': [{'abbr': 'U.', 'text': 'Usada'}], 'sentence': {'text': ',     ,     .'}, 'examples': []}]}, {'lema': {'lema': 'ganar año un estudiante'}, 'supplementary_info': [], 'definitions': [{'index': 1, 'category': {'abbr': 'loc. verb. coloq.', 'text': 'locución verbal coloquial'}, 'is': {'adjective': False, 'adverb': False, 'interjection': False, 'noun': False, 'pronoun': False, 'verb': False}, 'abbreviations': [], 'sentence': {'text': '.'}, 'examples': []}]}, {'lema': {'lema': 'jugar los años'}, 'supplementary_info': [], 'definitions': [{'index': 1, 'category': {'abbr': 'loc. verb. coloq.', 'text': 'locución verbal coloquial'}, 'is': {'adjective': False, 'adverb': False, 'interjection': False, 'noun': False, 'pronoun': False, 'verb': False}, 'abbreviations': [], 'sentence': {'text': ',      .'}, 'examples': []}]}, {'lema': {'lema': 'mal año'}, 'supplementary_info': [], 'definitions': [{'index': 1, 'category': {'abbr': 'loc. interj.', 'text': 'locución interjectiva'}, 'is': {'adjective': False, 'adverb': False, 'interjection': False, 'noun': False, 'pronoun': False, 'verb': False}, 'abbreviations': [{'abbr': 'coloq.', 'text': 'coloquial'}, {'abbr': 'U.', 'text': 'Usada'}], 'sentence': {'text': '.'}, 'examples': []}]}, {'lema': {'lema': 'mal año para alguien o algo'}, 'supplementary_info': [], 'definitions': [{'index': 1, 'category': {'abbr': 'loc. interj.', 'text': 'locución interjectiva'}, 'is': {'adjective': False, 'adverb': False, 'interjection': False, 'noun': False, 'pronoun': False, 'verb': False}, 'abbreviations': [{'abbr': 'coloq.', 'text': 'coloquial'}, {'abbr': 'U.', 'text': 'Usada'}], 'sentence': {'text': '.'}, 'examples': []}]}, {'lema': {'lema': 'para el año'}, 'supplementary_info': [], 'definitions': [{'index': 1, 'category': {'abbr': 'loc. adv.', 'text': 'locución adverbial'}, 'is': {'adjective': False, 'adverb': False, 'interjection': False, 'noun': False, 'pronoun': False, 'verb': False}, 'abbreviations': [{'abbr': 'Gal. y Ur.', 'text': 'Galicia y Uruguay'}], 'sentence': {'text': '.'}, 'examples': [{'text': '¿Cuándo nos volveremos a ver? Para el año.'}]}]}, {'lema': {'lema': 'perder año un estudiante'}, 'supplementary_info': [], 'definitions': [{'index': 1, 'category': {'abbr': 'loc. verb. coloq.', 'text': 'locución verbal coloquial'}, 'is': {'adjective': False, 'adverb': False, 'interjection': False, 'noun': False, 'pronoun': False, 'verb': False}, 'abbreviations': [], 'sentence': {'text': '.'}, 'examples': []}]}, {'lema': {'lema': 'por los años de'}, 'supplementary_info': [], 'definitions': [{'index': 1, 'category': {'abbr': 'loc. prepos.', 'text': 'locución preposicional'}, 'is': {'adjective': False, 'adverb': False, 'interjection': False, 'noun': False, 'pronoun': False, 'verb': False}, 'abbreviations': [], 'sentence': {'text': ',     .'}, 'examples': [{'text': 'Esto debió de ocurrir por los años de 1585.'}]}]}, {'lema': {'lema': 'quitarse alguien años'}, 'supplementary_info': [], 'definitions': [{'index': 1, 'category': {'abbr': 'loc. verb. coloq.', 'text': 'locución verbal coloquial'}, 'is': {'adjective': False, 'adverb': False, 'interjection': False, 'noun': False, 'pronoun': False, 'verb': False}, 'abbreviations': [], 'sentence': {'text': '.'}, 'examples': []}]}, {'lema': {'lema': 'saber alguien bastante para su año'}, 'supplementary_info': [], 'definitions': [{'index': 1, 'category': {'abbr': 'loc. verb. coloq.', 'text': 'locución verbal coloquial'}, 'is': {'adjective': False, 'adverb': False, 'interjection': False, 'noun': False, 'pronoun': False, 'verb': False}, 'abbreviations': [], 'sentence': {'text': '.'}, 'examples': []}]}, {'lema': {'lema': 'venírsele a alguien los años encima'}, 'supplementary_info': [], 'definitions': [{'index': 1, 'category': {'abbr': 'loc. verb.', 'text': 'locución verbal'}, 'is': {'adjective': False, 'adverb': False, 'interjection': False, 'noun': False, 'pronoun': False, 'verb': False}, 'abbreviations': [], 'sentence': {'text': 'echársele los años encima.'}, 'examples': []}]}, {'lema': {'lema': 'viva usted mil años, o muchos años'}, 'supplementary_info': [], 'definitions': [{'index': 1, 'category': {'abbr': 'exprs.', 'text': 'expresiones'}, 'is': {'adjective': False, 'adverb': False, 'interjection': False, 'noun': False, 'pronoun': False, 'verb': False}, 'abbreviations': [{'abbr': 'U.', 'text': 'Usadas'}], 'sentence': {'text': '.'}, 'examples': []}]}], 'other_entries': [{'text': 'cabo de año', 'link': 'https://dle.rae.es/?id=6S13ycd#4XVwicU'}, {'text': 'día de años', 'link': 'https://dle.rae.es/?id=DcsVyE1#B7piP5v'}, {'text': 'salto de mal año', 'link': 'https://dle.rae.es/?id=X79BxUq#5Grttq5'}]}, {'id': '31Yyrx8', 'lema': {'lema': 'año2', 'index': 0, 'female_suffix': ''}, 'supplementary_info': [{'text': \"Del lat. (latín) agnus 'cordero'.\"}], 'is': {'verb': False}, 'definitions': [{'index': 1, 'category': {'abbr': 'm.', 'text': 'nombre masculino'}, 'is': {'adjective': False, 'adverb': False, 'interjection': False, 'noun': True, 'pronoun': False, 'verb': False}, 'abbreviations': [{'abbr': 'Gal. y León.', 'text': 'Galicia y León'}], 'sentence': {'text': '.'}, 'examples': []}], 'complex_forms': [], 'other_entries': []}]}\n",
      "frente => {'title': 'frente | Definición | Diccionario de la lengua española | RAE - ASALE', 'articles': [{'id': 'ISe2liY', 'lema': {'lema': 'frente', 'index': 0, 'female_suffix': ''}, 'supplementary_info': [{'text': 'Del ant. (antiguo) fruente, y este del lat. (latín) frons, frontis.'}], 'is': {'verb': False}, 'definitions': [{'index': 1, 'category': {'abbr': 'f.', 'text': 'nombre femenino'}, 'is': {'adjective': False, 'adverb': False, 'interjection': False, 'noun': True, 'pronoun': False, 'verb': False}, 'abbreviations': [], 'sentence': {'text': ',      ,             .Sin.: (Sinónimos o afines)'}, 'examples': []}, {'index': 2, 'category': {'abbr': 'f.', 'text': 'nombre femenino'}, 'is': {'adjective': False, 'adverb': False, 'interjection': False, 'noun': True, 'pronoun': False, 'verb': False}, 'abbreviations': [], 'sentence': {'text': ', . Sin.: (Sinónimos o afines)'}, 'examples': [{'text': 'Frente serena.'}]}, {'index': 3, 'category': {'abbr': 'f.', 'text': 'nombre femenino'}, 'is': {'adjective': False, 'adverb': False, 'interjection': False, 'noun': True, 'pronoun': False, 'verb': False}, 'abbreviations': [], 'sentence': {'text': ',     .'}, 'examples': []}, {'index': 4, 'category': {'abbr': 'f.', 'text': 'nombre femenino'}, 'is': {'adjective': False, 'adverb': False, 'interjection': False, 'noun': True, 'pronoun': False, 'verb': False}, 'abbreviations': [], 'sentence': {'text': ',      .'}, 'examples': []}, {'index': 5, 'category': {'abbr': 'm.', 'text': 'nombre masculino'}, 'is': {'adjective': False, 'adverb': False, 'interjection': False, 'noun': True, 'pronoun': False, 'verb': False}, 'abbreviations': [{'abbr': 'etc.', 'text': 'etcétera'}], 'sentence': {'text': ', , Sin.: (Sinónimos o afines)'}, 'examples': []}, {'index': 6, 'category': {'abbr': 'm.', 'text': 'nombre masculino'}, 'is': {'adjective': False, 'adverb': False, 'interjection': False, 'noun': True, 'pronoun': False, 'verb': False}, 'abbreviations': [{'abbr': 'Meteor.', 'text': 'Meteorología'}], 'sentence': {'text': ',        .'}, 'examples': []}, {'index': 7, 'category': {'abbr': 'm.', 'text': 'nombre masculino'}, 'is': {'adjective': False, 'adverb': False, 'interjection': False, 'noun': True, 'pronoun': False, 'verb': False}, 'abbreviations': [{'abbr': 'Mil.', 'text': 'Milicia'}], 'sentence': {'text': '.'}, 'examples': []}, {'index': 8, 'category': {'abbr': 'm.', 'text': 'nombre masculino'}, 'is': {'adjective': False, 'adverb': False, 'interjection': False, 'noun': True, 'pronoun': False, 'verb': False}, 'abbreviations': [{'abbr': 'Mil.', 'text': 'Milicia'}], 'sentence': {'text': '. Ant.: (Antónimo u opuesto)'}, 'examples': [{'text': 'El escuadrón tenía diez hombres de frente.'}]}, {'index': 9, 'category': {'abbr': 'm.', 'text': 'nombre masculino'}, 'is': {'adjective': False, 'adverb': False, 'interjection': False, 'noun': True, 'pronoun': False, 'verb': False}, 'abbreviations': [{'abbr': 'Mil.', 'text': 'Milicia'}], 'sentence': {'text': '.Sin.: (Sinónimos o afines)'}, 'examples': []}, {'index': 10, 'category': {'abbr': 'm. o f.', 'text': 'nombre masculino o femenino'}, 'is': {'adjective': False, 'adverb': False, 'interjection': False, 'noun': False, 'pronoun': False, 'verb': False}, 'abbreviations': [], 'sentence': {'text': '.Sin.: (Sinónimos o afines)'}, 'examples': []}, {'index': 11, 'category': {'abbr': 'm. o f.', 'text': 'nombre masculino o femenino'}, 'is': {'adjective': False, 'adverb': False, 'interjection': False, 'noun': False, 'pronoun': False, 'verb': False}, 'abbreviations': [], 'sentence': {'text': '.'}, 'examples': []}, {'index': 12, 'category': {'abbr': 'm. o f.', 'text': 'nombre masculino o femenino'}, 'is': {'adjective': False, 'adverb': False, 'interjection': False, 'noun': False, 'pronoun': False, 'verb': False}, 'abbreviations': [], 'sentence': {'text': '.'}, 'examples': []}, {'index': 13, 'category': {'abbr': 'adv.', 'text': 'adverbio'}, 'is': {'adjective': False, 'adverb': True, 'interjection': False, 'noun': False, 'pronoun': False, 'verb': False}, 'abbreviations': [], 'sentence': {'text': '.'}, 'examples': []}, {'index': 14, 'category': {'abbr': 'adv.', 'text': 'adverbio'}, 'is': {'adjective': False, 'adverb': True, 'interjection': False, 'noun': False, 'pronoun': False, 'verb': False}, 'abbreviations': [], 'sentence': {'text': ',  .'}, 'examples': []}], 'complex_forms': [{'lema': {'lema': 'frente calzada'}, 'supplementary_info': [], 'definitions': [{'index': 1, 'category': {'abbr': 'f.', 'text': 'nombre femenino'}, 'is': {'adjective': False, 'adverb': False, 'interjection': False, 'noun': True, 'pronoun': False, 'verb': False}, 'abbreviations': [], 'sentence': {'text': ',          .'}, 'examples': []}]}, {'lema': {'lema': 'frente de batalla'}, 'supplementary_info': [], 'definitions': [{'index': 1, 'category': {'abbr': 'm.', 'text': 'nombre masculino'}, 'is': {'adjective': False, 'adverb': False, 'interjection': False, 'noun': True, 'pronoun': False, 'verb': False}, 'abbreviations': [{'abbr': 'Mil.', 'text': 'Milicia'}], 'sentence': {'text': '.'}, 'examples': []}]}, {'lema': {'lema': 'frente de onda'}, 'supplementary_info': [], 'definitions': [{'index': 1, 'category': {'abbr': 'm.', 'text': 'nombre masculino'}, 'is': {'adjective': False, 'adverb': False, 'interjection': False, 'noun': True, 'pronoun': False, 'verb': False}, 'abbreviations': [{'abbr': 'Fís.', 'text': 'Física'}], 'sentence': {'text': '.'}, 'examples': []}]}, {'lema': {'lema': 'frente único'}, 'supplementary_info': [], 'definitions': [{'index': 1, 'category': {'abbr': 'm.', 'text': 'nombre masculino'}, 'is': {'adjective': False, 'adverb': False, 'interjection': False, 'noun': True, 'pronoun': False, 'verb': False}, 'abbreviations': [], 'sentence': {'text': '.'}, 'examples': []}]}, {'lema': {'lema': 'segundo frente'}, 'supplementary_info': [], 'definitions': [{'index': 1, 'category': {'abbr': 'm.', 'text': 'nombre masculino'}, 'is': {'adjective': False, 'adverb': False, 'interjection': False, 'noun': True, 'pronoun': False, 'verb': False}, 'abbreviations': [{'abbr': 'El Salv. y Méx.', 'text': 'El Salvador y México'}], 'sentence': {'text': '.'}, 'examples': []}]}, {'lema': {'lema': 'a frente'}, 'supplementary_info': [], 'definitions': [{'index': 1, 'category': {'abbr': 'loc. adv.', 'text': 'locución adverbial'}, 'is': {'adjective': False, 'adverb': False, 'interjection': False, 'noun': False, 'pronoun': False, 'verb': False}, 'abbreviations': [], 'sentence': {'text': '.'}, 'examples': []}]}, {'lema': {'lema': 'al frente'}, 'supplementary_info': [], 'definitions': [{'index': 1, 'category': {'abbr': 'loc. adv.', 'text': 'locución adverbial'}, 'is': {'adjective': False, 'adverb': False, 'interjection': False, 'noun': False, 'pronoun': False, 'verb': False}, 'abbreviations': [], 'sentence': {'text': 'delante.'}, 'examples': []}, {'index': 2, 'category': {'abbr': 'loc. adv.', 'text': 'locución adverbial'}, 'is': {'adjective': False, 'adverb': False, 'interjection': False, 'noun': False, 'pronoun': False, 'verb': False}, 'abbreviations': [], 'sentence': {'text': '.'}, 'examples': []}]}, {'lema': {'lema': 'al frente de'}, 'supplementary_info': [], 'definitions': [{'index': 1, 'category': {'abbr': 'loc. prepos.', 'text': 'locución preposicional'}, 'is': {'adjective': False, 'adverb': False, 'interjection': False, 'noun': False, 'pronoun': False, 'verb': False}, 'abbreviations': [], 'sentence': {'text': '.'}, 'examples': []}]}, {'lema': {'lema': 'arrugar alguien la frente'}, 'supplementary_info': [], 'definitions': [{'index': 1, 'category': {'abbr': 'loc. verb. coloq.', 'text': 'locución verbal coloquial'}, 'is': {'adjective': False, 'adverb': False, 'interjection': False, 'noun': False, 'pronoun': False, 'verb': False}, 'abbreviations': [], 'sentence': {'text': ',   .'}, 'examples': []}]}, {'lema': {'lema': 'con la frente levantada, o muy alta'}, 'supplementary_info': [], 'definitions': [{'index': 1, 'category': {'abbr': 'locs. advs.', 'text': 'locuciones adverbiales'}, 'is': {'adjective': False, 'adverb': False, 'interjection': False, 'noun': False, 'pronoun': False, 'verb': False}, 'abbreviations': [{'abbr': 'coloqs.', 'text': 'coloquiales'}], 'sentence': {'text': '.'}, 'examples': []}, {'index': 2, 'category': {'abbr': 'locs. advs.', 'text': 'locuciones adverbiales'}, 'is': {'adjective': False, 'adverb': False, 'interjection': False, 'noun': False, 'pronoun': False, 'verb': False}, 'abbreviations': [{'abbr': 'coloqs.', 'text': 'coloquiales'}], 'sentence': {'text': '.'}, 'examples': []}]}, {'lema': {'lema': 'dar el frente a alguien'}, 'supplementary_info': [], 'definitions': [{'index': 1, 'category': {'abbr': 'loc. verb.', 'text': 'locución verbal'}, 'is': {'adjective': False, 'adverb': False, 'interjection': False, 'noun': False, 'pronoun': False, 'verb': False}, 'abbreviations': [{'abbr': 'Cuba y Ven.', 'text': 'Cuba y Venezuela'}], 'sentence': {'text': 'plantar cara.'}, 'examples': []}]}, {'lema': {'lema': 'de frente'}, 'supplementary_info': [], 'definitions': [{'index': 1, 'category': {'abbr': 'loc. adv.', 'text': 'locución adverbial'}, 'is': {'adjective': False, 'adverb': False, 'interjection': False, 'noun': False, 'pronoun': False, 'verb': False}, 'abbreviations': [], 'sentence': {'text': ',   .'}, 'examples': [{'text': 'Llevar, acometer de frente.'}]}, {'index': 2, 'category': {'abbr': 'loc. adv.', 'text': 'locución adverbial'}, 'is': {'adjective': False, 'adverb': False, 'interjection': False, 'noun': False, 'pronoun': False, 'verb': False}, 'abbreviations': [], 'sentence': {'text': '.'}, 'examples': []}, {'index': 3, 'category': {'abbr': 'loc. adv.', 'text': 'locución adverbial'}, 'is': {'adjective': False, 'adverb': False, 'interjection': False, 'noun': False, 'pronoun': False, 'verb': False}, 'abbreviations': [], 'sentence': {'text': '.'}, 'examples': []}]}, {'lema': {'lema': 'en frente'}, 'supplementary_info': [], 'definitions': []}, {'lema': {'lema': 'frente a'}, 'supplementary_info': [], 'definitions': [{'index': 1, 'category': {'abbr': 'loc. prepos.', 'text': 'locución preposicional'}, 'is': {'adjective': False, 'adverb': False, 'interjection': False, 'noun': False, 'pronoun': False, 'verb': False}, 'abbreviations': [], 'sentence': {'text': ',  .'}, 'examples': []}, {'index': 2, 'category': {'abbr': 'loc. prepos.', 'text': 'locución preposicional'}, 'is': {'adjective': False, 'adverb': False, 'interjection': False, 'noun': False, 'pronoun': False, 'verb': False}, 'abbreviations': [], 'sentence': {'text': '.'}, 'examples': []}]}, {'lema': {'lema': 'frente a frente'}, 'supplementary_info': [], 'definitions': [{'index': 1, 'category': {'abbr': 'loc. adv.', 'text': 'locución adverbial'}, 'is': {'adjective': False, 'adverb': False, 'interjection': False, 'noun': False, 'pronoun': False, 'verb': False}, 'abbreviations': [], 'sentence': {'text': 'cara a cara.'}, 'examples': []}, {'index': 2, 'category': {'abbr': 'loc. adv.', 'text': 'locución adverbial'}, 'is': {'adjective': False, 'adverb': False, 'interjection': False, 'noun': False, 'pronoun': False, 'verb': False}, 'abbreviations': [{'abbr': 'U.', 'text': 'Usada'}], 'sentence': {'text': 'enfrente.            .'}, 'examples': []}]}, {'lema': {'lema': 'frente por frente'}, 'supplementary_info': [], 'definitions': [{'index': 1, 'category': {'abbr': 'loc. adv.', 'text': 'locución adverbial'}, 'is': {'adjective': False, 'adverb': False, 'interjection': False, 'noun': False, 'pronoun': False, 'verb': False}, 'abbreviations': [], 'sentence': {'text': '.'}, 'examples': []}]}, {'lema': {'lema': 'hacer frente'}, 'supplementary_info': [], 'definitions': [{'index': 1, 'category': {'abbr': 'loc. verb.', 'text': 'locución verbal'}, 'is': {'adjective': False, 'adverb': False, 'interjection': False, 'noun': False, 'pronoun': False, 'verb': False}, 'abbreviations': [], 'sentence': {'text': 'plantar cara a alguien.'}, 'examples': []}]}, {'lema': {'lema': 'me la claven en la frente'}, 'supplementary_info': [], 'definitions': [{'index': 1, 'category': {'abbr': 'expr.', 'text': 'expresión'}, 'is': {'adjective': False, 'adverb': False, 'interjection': False, 'noun': False, 'pronoun': False, 'verb': False}, 'abbreviations': [{'abbr': 'coloq.', 'text': 'coloquial'}, {'abbr': 'U.', 'text': 'Usada'}], 'sentence': {'text': '.'}, 'examples': []}]}, {'lema': {'lema': 'ponerse al frente'}, 'supplementary_info': [], 'definitions': [{'index': 1, 'category': {'abbr': 'loc. verb.', 'text': 'locución verbal'}, 'is': {'adjective': False, 'adverb': False, 'interjection': False, 'noun': False, 'pronoun': False, 'verb': False}, 'abbreviations': [], 'sentence': {'text': '.'}, 'examples': []}]}, {'lema': {'lema': 'traerlo alguien escrito en la frente'}, 'supplementary_info': [], 'definitions': [{'index': 1, 'category': {'abbr': 'loc. verb.', 'text': 'locución verbal'}, 'is': {'adjective': False, 'adverb': False, 'interjection': False, 'noun': False, 'pronoun': False, 'verb': False}, 'abbreviations': [], 'sentence': {'text': ',      ,         .'}, 'examples': []}]}], 'other_entries': [{'text': 'enfrente.', 'link': 'https://dle.rae.es/?id=FJ7TTXF'}]}]}\n",
      "pelotón => {'title': 'pelotón | Definición | Diccionario de la lengua española | RAE - ASALE', 'articles': [{'id': 'SPu4JmR', 'lema': {'lema': 'pelotón', 'index': 0, 'female_suffix': ''}, 'supplementary_info': [{'text': 'Del fr. (francés) peloton.'}], 'is': {'verb': False}, 'definitions': [{'index': 1, 'category': {'abbr': 'm.', 'text': 'nombre masculino'}, 'is': {'adjective': False, 'adverb': False, 'interjection': False, 'noun': True, 'pronoun': False, 'verb': False}, 'abbreviations': [], 'sentence': {'text': ',   .'}, 'examples': [{'text': 'El escarabajo empuja un pelotón de estiércol.'}]}, {'index': 2, 'category': {'abbr': 'm.', 'text': 'nombre masculino'}, 'is': {'adjective': False, 'adverb': False, 'interjection': False, 'noun': True, 'pronoun': False, 'verb': False}, 'abbreviations': [], 'sentence': {'text': '.'}, 'examples': []}, {'index': 3, 'category': {'abbr': 'm.', 'text': 'nombre masculino'}, 'is': {'adjective': False, 'adverb': False, 'interjection': False, 'noun': True, 'pronoun': False, 'verb': False}, 'abbreviations': [], 'sentence': {'text': ',        .'}, 'examples': []}, {'index': 4, 'category': {'abbr': 'm.', 'text': 'nombre masculino'}, 'is': {'adjective': False, 'adverb': False, 'interjection': False, 'noun': True, 'pronoun': False, 'verb': False}, 'abbreviations': [{'abbr': 'Mil.', 'text': 'Milicia'}], 'sentence': {'text': '.Sin.: (Sinónimos o afines)'}, 'examples': []}], 'complex_forms': [], 'other_entries': []}]}\n"
     ]
    },
    {
     "name": "stderr",
     "output_type": "stream",
     "text": [
      "2024-01-10 20:32:42,262 - INFO    - dle.search_by_url - Performing request to: 'https://dle.rae.es/coronel'...\n"
     ]
    },
    {
     "name": "stdout",
     "output_type": "stream",
     "text": [
      "fusilamiento => {'title': 'fusilamiento | Definición | Diccionario de la lengua española | RAE - ASALE', 'articles': [{'id': 'IeA6jQQ', 'lema': {'lema': 'fusilamiento', 'index': 0, 'female_suffix': ''}, 'supplementary_info': [], 'is': {'verb': False}, 'definitions': [{'index': 1, 'category': {'abbr': 'm.', 'text': 'nombre masculino'}, 'is': {'adjective': False, 'adverb': False, 'interjection': False, 'noun': True, 'pronoun': False, 'verb': False}, 'abbreviations': [], 'sentence': {'text': '.Sin.: (Sinónimos o afines)'}, 'examples': []}], 'complex_forms': [], 'other_entries': []}]}\n",
      "coronel => {'title': 'coronel | Definición | Diccionario de la lengua española | RAE - ASALE', 'articles': [{'id': 'Avb7qml', 'lema': {'lema': 'coronel1', 'index': 0, 'female_suffix': ''}, 'supplementary_info': [{'text': \"Del fr. (francés) colonel, y este del it. (italiano) colonnello, der. (derivado) de colonna 'columna de soldados'.\"}], 'is': {'verb': False}, 'definitions': [{'index': 1, 'category': {'abbr': 'm. y f.', 'text': 'nombre masculino y femenino'}, 'is': {'adjective': False, 'adverb': False, 'interjection': False, 'noun': True, 'pronoun': False, 'verb': False}, 'abbreviations': [], 'sentence': {'text': '.'}, 'examples': []}, {'index': 2, 'category': {'abbr': 'm.', 'text': 'nombre masculino'}, 'is': {'adjective': False, 'adverb': False, 'interjection': False, 'noun': True, 'pronoun': False, 'verb': False}, 'abbreviations': [{'abbr': 'Cuba.', 'text': 'Cuba'}], 'sentence': {'text': '.'}, 'examples': []}, {'index': 3, 'category': {'abbr': 'm.', 'text': 'nombre masculino'}, 'is': {'adjective': False, 'adverb': False, 'interjection': False, 'noun': True, 'pronoun': False, 'verb': False}, 'abbreviations': [{'abbr': 'El Salv.', 'text': 'El Salvador'}], 'sentence': {'text': 'pavo (‖ ).Sin.: (Sinónimos o afines)'}, 'examples': []}], 'complex_forms': [], 'other_entries': [{'text': 'teniente coronel', 'link': 'https://dle.rae.es/?id=ZTNdleM#5Lp2Aft'}]}, {'id': 'Avc0CGw', 'lema': {'lema': 'coronel2', 'index': 0, 'female_suffix': ''}, 'supplementary_info': [{'text': \"Del fr. ant. (francés antiguo) coroner 'de corona'.\"}], 'is': {'verb': False}, 'definitions': [{'index': 1, 'category': {'abbr': 'm.', 'text': 'nombre masculino'}, 'is': {'adjective': False, 'adverb': False, 'interjection': False, 'noun': True, 'pronoun': False, 'verb': False}, 'abbreviations': [{'abbr': 'Arq.', 'text': 'Arquitectura'}], 'sentence': {'text': '.'}, 'examples': []}, {'index': 2, 'category': {'abbr': 'm.', 'text': 'nombre masculino'}, 'is': {'adjective': False, 'adverb': False, 'interjection': False, 'noun': True, 'pronoun': False, 'verb': False}, 'abbreviations': [{'abbr': 'Heráld.', 'text': 'Heráldica'}], 'sentence': {'text': '.'}, 'examples': []}], 'complex_forms': [], 'other_entries': []}]}\n"
     ]
    }
   ],
   "source": [
    "# search first 10 words in RAE using pyrae\n",
    "from pyrae import dle\n",
    "\n",
    "for token in [w for w in doc if not w.is_stop and not w.is_space and not w.is_punct][:5]:\n",
    "    result = dle.search_by_word(word=token.text)\n",
    "    print(f\"{token.text} => {result.to_dict()}\")"
   ]
  },
  {
   "cell_type": "markdown",
   "metadata": {},
   "source": []
  }
 ],
 "metadata": {
  "kernelspec": {
   "display_name": ".venv",
   "language": "python",
   "name": "python3"
  },
  "language_info": {
   "codemirror_mode": {
    "name": "ipython",
    "version": 3
   },
   "file_extension": ".py",
   "mimetype": "text/x-python",
   "name": "python",
   "nbconvert_exporter": "python",
   "pygments_lexer": "ipython3",
   "version": "3.10.0"
  }
 },
 "nbformat": 4,
 "nbformat_minor": 2
}
