{
 "cells": [
  {
   "cell_type": "code",
   "execution_count": null,
   "metadata": {},
   "outputs": [],
   "source": [
    "import os\n",
    "print(os.getcwd())"
   ]
  },
  {
   "cell_type": "code",
   "execution_count": null,
   "metadata": {},
   "outputs": [],
   "source": [
    "# Tensorflow Text\n",
    "# https://www.tensorflow.org/tutorials/tensorflow_text/intro\n",
    "#\n",
    "import gensim.downloader as api\n",
    "import tensorflow as tf\n",
    "\n",
    "word2vec_model = api.load(\"word2vec-google-news-300\")"
   ]
  },
  {
   "cell_type": "code",
   "execution_count": null,
   "metadata": {},
   "outputs": [],
   "source": [
    "def print_word_tensor(word):\n",
    "    vector = word2vec_model[word]\n",
    "    word_tensor = tf.constant(vector)\n",
    "    print(f\"{word} = {word_tensor}\")\n",
    "    return \n",
    "\n",
    "print_word_tensor(\"king\")\n",
    "print_word_tensor(\"k1ng\") # misspelled intentionally -> it will fail\n"
   ]
  },
  {
   "cell_type": "code",
   "execution_count": null,
   "metadata": {},
   "outputs": [],
   "source": [
    "import fasttext\n",
    "import fasttext.util\n",
    "\n",
    "fasttext.util.download_model('en', if_exists='ignore')  # English\n",
    "ft = fasttext.load_model('cc.en.300.bin')"
   ]
  },
  {
   "cell_type": "code",
   "execution_count": 19,
   "metadata": {},
   "outputs": [
    {
     "name": "stdout",
     "output_type": "stream",
     "text": [
      "king and queen = 0.7068520784378052\n",
      "king and k1ng = 0.060001082718372345\n"
     ]
    }
   ],
   "source": [
    "from sklearn.metrics.pairwise import cosine_similarity\n",
    "\n",
    "\n",
    "def print_cosine_similarity(word1, word2):\n",
    "    similarity = cosine_similarity([ft.get_word_vector(word1)], [ft.get_word_vector(word2)])\n",
    "    print(f\"{word1} and {word2} = {similarity[0][0]}\")\n",
    "    return\n",
    "\n",
    "\n",
    "print_cosine_similarity(\"king\", \"queen\")\n",
    "print_cosine_similarity(\"king\", \"k1ng\")  # misspelled intentionally -> it will NOT fail"
   ]
  }
 ],
 "metadata": {
  "kernelspec": {
   "display_name": ".venv",
   "language": "python",
   "name": "python3"
  },
  "language_info": {
   "codemirror_mode": {
    "name": "ipython",
    "version": 3
   },
   "file_extension": ".py",
   "mimetype": "text/x-python",
   "name": "python",
   "nbconvert_exporter": "python",
   "pygments_lexer": "ipython3",
   "version": "3.10.0"
  }
 },
 "nbformat": 4,
 "nbformat_minor": 2
}
