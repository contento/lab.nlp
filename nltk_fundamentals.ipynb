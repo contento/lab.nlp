{
 "cells": [
  {
   "cell_type": "code",
   "execution_count": 32,
   "metadata": {},
   "outputs": [
    {
     "name": "stderr",
     "output_type": "stream",
     "text": [
      "[nltk_data] Downloading package punkt to /Users/gonzalo/nltk_data...\n",
      "[nltk_data]   Package punkt is already up-to-date!\n",
      "[nltk_data] Downloading package averaged_perceptron_tagger to\n",
      "[nltk_data]     /Users/gonzalo/nltk_data...\n",
      "[nltk_data]   Package averaged_perceptron_tagger is already up-to-\n",
      "[nltk_data]       date!\n",
      "[nltk_data] Downloading package maxent_ne_chunker to\n",
      "[nltk_data]     /Users/gonzalo/nltk_data...\n",
      "[nltk_data]   Package maxent_ne_chunker is already up-to-date!\n",
      "[nltk_data] Downloading package words to /Users/gonzalo/nltk_data...\n",
      "[nltk_data]   Unzipping corpora/words.zip.\n"
     ]
    }
   ],
   "source": [
    "import nltk\n",
    "from nltk.tokenize import word_tokenize\n",
    "\n",
    "nltk.download('punkt')\n",
    "nltk.download('averaged_perceptron_tagger')\n",
    "nltk.download('maxent_ne_chunker')\n",
    "nltk.download('words')\n",
    "\n",
    "text = \"\"\"\n",
    "Muchos años después, \n",
    "frente al pelotón de fusilamiento,\n",
    "el coronel Aureliano Buendía había de recordar aquella tarde remota en que su padre lo llevó a conocer el hielo.\n",
    "Macondo era entonces una aldea de 20 casas de barro y cañabrava\n",
    "construidas a la orilla de un río de aguas diáfanas\n",
    "que se precipitaban por un lecho de piedras pulidas,\n",
    "blancas y enormes como huevos prehistóricos.\n",
    "\"\"\""
   ]
  },
  {
   "cell_type": "code",
   "execution_count": 29,
   "metadata": {},
   "outputs": [
    {
     "name": "stdout",
     "output_type": "stream",
     "text": [
      "['Muchos', 'años', 'después', ',', 'frente', 'al', 'pelotón', 'de', 'fusilamiento', ',', 'el', 'coronel', 'Aureliano', 'Buendía', 'había', 'de', 'recordar', 'aquella', 'tarde', 'remota', 'en', 'que', 'su', 'padre', 'lo', 'llevó', 'a', 'conocer', 'el', 'hielo', '.', 'Macondo', 'era', 'entonces', 'una', 'aldea', 'de', '20', 'casas', 'de', 'barro', 'y', 'cañabrava', 'construidas', 'a', 'la', 'orilla', 'de', 'un', 'río', 'de', 'aguas', 'diáfanas', 'que', 'se', 'precipitaban', 'por', 'un', 'lecho', 'de', 'piedras', 'pulidas', ',', 'blancas', 'y', 'enormes', 'como', 'huevos', 'prehistóricos', '.']\n"
     ]
    }
   ],
   "source": [
    "# tokenize\n",
    "tokens = word_tokenize(text)\n",
    "print(tokens)"
   ]
  },
  {
   "cell_type": "code",
   "execution_count": 30,
   "metadata": {},
   "outputs": [
    {
     "data": {
      "text/plain": [
       "[('Muchos', 'NNP'),\n",
       " ('años', 'NN'),\n",
       " ('después', 'NN'),\n",
       " (',', ','),\n",
       " ('frente', 'JJ'),\n",
       " ('al', 'FW')]"
      ]
     },
     "execution_count": 30,
     "metadata": {},
     "output_type": "execute_result"
    }
   ],
   "source": [
    "# tags\n",
    "tagged = nltk.pos_tag(tokens)\n",
    "tagged[0:10]"
   ]
  },
  {
   "cell_type": "code",
   "execution_count": 37,
   "metadata": {},
   "outputs": [
    {
     "data": {
      "text/plain": [
       "[Tree('GPE', [('Muchos', 'NNP')]),\n",
       " ('años', 'NN'),\n",
       " ('después', 'NN'),\n",
       " (',', ','),\n",
       " ('frente', 'JJ'),\n",
       " ('al', 'FW'),\n",
       " ('pelotón', 'FW'),\n",
       " ('de', 'FW'),\n",
       " ('fusilamiento', 'FW'),\n",
       " (',', ',')]"
      ]
     },
     "execution_count": 37,
     "metadata": {},
     "output_type": "execute_result"
    }
   ],
   "source": [
    "# entities\n",
    "entities = nltk.chunk.ne_chunk(tagged)\n",
    "entities[0:10]"
   ]
  }
 ],
 "metadata": {
  "kernelspec": {
   "display_name": ".venv",
   "language": "python",
   "name": "python3"
  },
  "language_info": {
   "codemirror_mode": {
    "name": "ipython",
    "version": 3
   },
   "file_extension": ".py",
   "mimetype": "text/x-python",
   "name": "python",
   "nbconvert_exporter": "python",
   "pygments_lexer": "ipython3",
   "version": "3.10.0"
  }
 },
 "nbformat": 4,
 "nbformat_minor": 2
}
